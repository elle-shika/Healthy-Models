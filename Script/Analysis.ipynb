{
 "cells": [
  {
   "cell_type": "markdown",
   "metadata": {},
   "source": [
    "# The Use of Artificial Intelligence technologies specifically Large Language Models amongst healthcare professionals. "
   ]
  },
  {
   "cell_type": "markdown",
   "metadata": {},
   "source": [
    "## Introduction\n",
    "Artificial Intelligence (AI) is a fast evolving trend in the tech landscape, rapidly changing work and reality as we know them to be. Its creation offers a solution for automating routine tasks of human everyday life and work in order to enhance speed, efficiency and productivity. By virtue of their design, the relevance of artificially intelligent technologies, specifically Large Language Models, spans through all spaces of human involvements, including the indispensable field of healthcare.\n",
    "\n",
    "Models such as ChatGPT and Google's BERT are transforming the healthcare landscape by enhancing clinical decision-making, improving documentation, and enabling innovative applications in patient care. This project seeks to explore the incorporation of LLMs, like ChatGPT, into the workflows of health professionals, i.e. doctors and pharmacists, assessing their impact on the utilization of traditional information sources and identifying potential benefits and challenges. By addressing these objectives, the study aims to contribute to the evolving integration of AI technologies in healthcare"
   ]
  },
  {
   "cell_type": "markdown",
   "metadata": {},
   "source": [
    "## Business Understanding\n",
    "Understanding adoption patterns of LLMs  is vital for policymakers, healthcare administrators, and other stakeholders to foster the effective use of AI in healthcare. Key benefits of this research include:\n",
    "- **Bridge Knowledge Gaps**: Insights into awareness levels will help design targeted educational programs to improve health professionals’ familiarity with LLMs and their potential applications.\n",
    "- **Optimize Usage Patterns**: Understanding how LLMs are currently used will inform strategies to integrate these tools effectively into healthcare workflows, enhancing efficiency and decision-making.\n",
    "- **Guide Resource Allocation**: Identifying preferences and barriers can assist in allocating resources and support where they are most needed, ensuring LLMs complement traditional tools effectively.\n",
    "- **Enhance Patient Care**: Highlighting the benefits of LLMs can encourage their use for improving patient outcomes through accurate diagnoses, tailored treatment plans, and streamlined documentation processes.\n"
   ]
  },
  {
   "cell_type": "markdown",
   "metadata": {},
   "source": [
    "### Hypotheses\n",
    "#### Establishing Use:\n",
    "- H0: Heath professionals are not referring to Large Language Model during healthcare delivery at their workplaces.\n",
    "- H1: Health professionals are referring to Large Language Model during healthcare delivery at their workplaces.\n",
    "\n",
    "#### Trend of Preference:\n",
    "- H0: Heath professionals are not turning to Language Models during healthcare delivery.\n",
    "- H1: Health professionals are turning more to Large Language Models than their most frequently used traditional information source during healthcare delivery.\n",
    "\n"
   ]
  },
  {
   "cell_type": "markdown",
   "metadata": {},
   "source": [
    "### Analytical questions"
   ]
  },
  {
   "cell_type": "markdown",
   "metadata": {},
   "source": [
    "1. What percentage of healthcare professionals are aware of the existence of Large Language Models (LLMs) like ChatGPT?  \n",
    "2. How does awareness of LLMs vary across different healthcare professions (e.g., doctors vs. pharmacists)?  \n",
    "3. How does understanding of the concept of LLMs vary across different healthcare professions (e.g., doctors vs. pharmacists)? \n",
    "4. How does awareness and use of LLMs vary across age groups (e.g., doctors vs. pharmacists)?   \n",
    "5.  What proportion of healthcare professionals actively use LLMs in their clinical or administrative tasks?  \n",
    "6. What is the correlation between understanding and use of LLMs?\n",
    "7. What percentage of healthcare professionals have access to LLMs at work?\n",
    "8. What percentage of healthcare professionals use LLMs in their practice?\n",
    "9.\tHow frequently do healthcare professionals employ LLMs in their professional activities?\n",
    "10. What specific clinical or administrative activities are LLMs most commonly used for in healthcare workflows?  \n",
    "11. Is there a significant difference in LLM usage frequency among professionals with varying years of experience? \n",
    "12. Do healthcare professionals prefer using LLMs over traditional information sources in their practice?\n",
    "13. What factors influence the preference for LLMs over traditional sources of medical information, such as textbooks and clinical guidelines?  \n",
    "14. What factors influence the preference for  traditional sources of medical information, such as textbooks and clinical guidelines over LLMs?  \n",
    "15. Is there a correlation between the perceived value of LLMs and the frequency of their use compared to traditional information sources?  \n",
    "16. How do healthcare professionals perceive the impact of LLM integration on their work?  \n"
   ]
  },
  {
   "cell_type": "markdown",
   "metadata": {},
   "source": []
  }
 ],
 "metadata": {
  "kernelspec": {
   "display_name": "Python 3",
   "language": "python",
   "name": "python3"
  },
  "language_info": {
   "codemirror_mode": {
    "name": "ipython",
    "version": 3
   },
   "file_extension": ".py",
   "mimetype": "text/x-python",
   "name": "python",
   "nbconvert_exporter": "python",
   "pygments_lexer": "ipython3",
   "version": "3.10.7"
  }
 },
 "nbformat": 4,
 "nbformat_minor": 2
}
